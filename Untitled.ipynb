{
 "cells": [
  {
   "cell_type": "code",
   "execution_count": 25,
   "id": "b96626e1-d664-4dd4-b6d0-6ff4ab49892f",
   "metadata": {},
   "outputs": [],
   "source": [
    "import numpy as np"
   ]
  },
  {
   "cell_type": "code",
   "execution_count": 26,
   "id": "9b784b6c-8cea-421f-bf62-73e59f2206af",
   "metadata": {},
   "outputs": [],
   "source": [
    "a  = np.array([1,2,3])\n",
    "b = np.array([3,2,1])"
   ]
  },
  {
   "cell_type": "code",
   "execution_count": 27,
   "id": "61124fec-f8df-48d4-abda-67d6dd36f379",
   "metadata": {},
   "outputs": [
    {
     "name": "stdout",
     "output_type": "stream",
     "text": [
      "[3 2 1] array create!!\n",
      "[1 2 3]\n"
     ]
    }
   ],
   "source": [
    "print(b, 'array create!!')\n",
    "print(a)"
   ]
  },
  {
   "cell_type": "code",
   "execution_count": 28,
   "id": "2ab80bca-8fb4-4c48-999e-ea28baea5962",
   "metadata": {},
   "outputs": [
    {
     "name": "stdout",
     "output_type": "stream",
     "text": [
      "[False  True False]\n"
     ]
    }
   ],
   "source": [
    "print(a == b)"
   ]
  },
  {
   "cell_type": "code",
   "execution_count": null,
   "id": "4bd8ce25-ade6-4e62-b935-1a1a15d4a9b7",
   "metadata": {},
   "outputs": [],
   "source": []
  }
 ],
 "metadata": {
  "kernelspec": {
   "display_name": "Python 3 (ipykernel)",
   "language": "python",
   "name": "python3"
  },
  "language_info": {
   "codemirror_mode": {
    "name": "ipython",
    "version": 3
   },
   "file_extension": ".py",
   "mimetype": "text/x-python",
   "name": "python",
   "nbconvert_exporter": "python",
   "pygments_lexer": "ipython3",
   "version": "3.12.4"
  }
 },
 "nbformat": 4,
 "nbformat_minor": 5
}
